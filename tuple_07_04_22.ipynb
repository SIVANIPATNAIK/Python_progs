{
  "nbformat": 4,
  "nbformat_minor": 0,
  "metadata": {
    "colab": {
      "name": "tuple 07/04/22.ipynb",
      "provenance": [],
      "toc_visible": true,
      "authorship_tag": "ABX9TyOdUdArIOgdeJpbJnUSuRUc",
      "include_colab_link": true
    },
    "kernelspec": {
      "name": "python3",
      "display_name": "Python 3"
    },
    "language_info": {
      "name": "python"
    }
  },
  "cells": [
    {
      "cell_type": "markdown",
      "metadata": {
        "id": "view-in-github",
        "colab_type": "text"
      },
      "source": [
        "<a href=\"https://colab.research.google.com/github/SIVANIPATNAIK/Python_progs/blob/main/tuple_07_04_22.ipynb\" target=\"_parent\"><img src=\"https://colab.research.google.com/assets/colab-badge.svg\" alt=\"Open In Colab\"/></a>"
      ]
    },
    {
      "cell_type": "markdown",
      "source": [
        "#not a tuple"
      ],
      "metadata": {
        "id": "4J4_iHiXpkqY"
      }
    },
    {
      "cell_type": "code",
      "source": [
        "thistuple = (\"apple\")\n",
        "print(type(thistuple))\n"
      ],
      "metadata": {
        "colab": {
          "base_uri": "https://localhost:8080/"
        },
        "id": "x5VYmVm7ppL4",
        "outputId": "12ec0b1a-f828-40f5-e48d-a591b8a7e8ed"
      },
      "execution_count": 1,
      "outputs": [
        {
          "output_type": "stream",
          "name": "stdout",
          "text": [
            "<class 'str'>\n"
          ]
        }
      ]
    },
    {
      "cell_type": "markdown",
      "source": [
        "#tuple"
      ],
      "metadata": {
        "id": "MIlgEdZUp1Ef"
      }
    },
    {
      "cell_type": "code",
      "source": [
        "thistuple = (\"apple\",)\n",
        "print(type(thistuple))"
      ],
      "metadata": {
        "colab": {
          "base_uri": "https://localhost:8080/"
        },
        "id": "DZbawbbCp_84",
        "outputId": "ef73a802-9695-450e-a02b-ef56c026fbac"
      },
      "execution_count": 2,
      "outputs": [
        {
          "output_type": "stream",
          "name": "stdout",
          "text": [
            "<class 'tuple'>\n"
          ]
        }
      ]
    },
    {
      "cell_type": "markdown",
      "source": [
        "duplicate"
      ],
      "metadata": {
        "id": "__6dRv0NqW2x"
      }
    },
    {
      "cell_type": "code",
      "source": [
        "thistuple = (\"apple\", \"banana\", \"cherry\", \"apple\", \"cherry\")\n",
        "print(thistuple)"
      ],
      "metadata": {
        "colab": {
          "base_uri": "https://localhost:8080/"
        },
        "id": "iBdOF18JqZkX",
        "outputId": "017d3dd6-a5d8-44f1-8d17-a7c2720033f9"
      },
      "execution_count": 3,
      "outputs": [
        {
          "output_type": "stream",
          "name": "stdout",
          "text": [
            "('apple', 'banana', 'cherry', 'apple', 'cherry')\n"
          ]
        }
      ]
    },
    {
      "cell_type": "markdown",
      "source": [
        "tuple length"
      ],
      "metadata": {
        "id": "d_scW-0JrKww"
      }
    },
    {
      "cell_type": "code",
      "source": [
        "thistuple = (\"apple\", \"banana\", \"mango\",\"papaya\")\n",
        "print(len(thistuple))"
      ],
      "metadata": {
        "colab": {
          "base_uri": "https://localhost:8080/"
        },
        "id": "bBUKUBtBriWt",
        "outputId": "5372d15d-40da-44ba-e6bc-5cc7fedcc487"
      },
      "execution_count": 6,
      "outputs": [
        {
          "output_type": "stream",
          "name": "stdout",
          "text": [
            "4\n"
          ]
        }
      ]
    },
    {
      "cell_type": "markdown",
      "source": [
        "tuple()"
      ],
      "metadata": {
        "id": "hv_aJE8ltBRZ"
      }
    },
    {
      "cell_type": "code",
      "source": [
        "thistuple = ((\"apple\", \"banana\", \"cherry\"))\n",
        "print(thistuple)"
      ],
      "metadata": {
        "colab": {
          "base_uri": "https://localhost:8080/"
        },
        "id": "hiP4HmKStEhE",
        "outputId": "309b9123-9bc4-4855-f9e9-1df1e5c99001"
      },
      "execution_count": 8,
      "outputs": [
        {
          "output_type": "stream",
          "name": "stdout",
          "text": [
            "('apple', 'banana', 'cherry')\n"
          ]
        }
      ]
    },
    {
      "cell_type": "markdown",
      "source": [
        "access tuple"
      ],
      "metadata": {
        "id": "LI5Y_fuUtMVN"
      }
    },
    {
      "cell_type": "code",
      "source": [
        "thistuple = (\"apple\", \"banana\", \"cherry\")\n",
        "print(thistuple[2])"
      ],
      "metadata": {
        "colab": {
          "base_uri": "https://localhost:8080/"
        },
        "id": "CzyMuHC7tY9G",
        "outputId": "6517af25-6f82-4529-d95b-51abf6bd40f7"
      },
      "execution_count": 10,
      "outputs": [
        {
          "output_type": "stream",
          "name": "stdout",
          "text": [
            "cherry\n"
          ]
        }
      ]
    },
    {
      "cell_type": "markdown",
      "source": [
        "negative indexing"
      ],
      "metadata": {
        "id": "yjj-C8eJuAVO"
      }
    },
    {
      "cell_type": "code",
      "source": [
        "thistuple = (\"apple\", \"banana\", \"cherry\")\n",
        "print(thistuple[-3])"
      ],
      "metadata": {
        "colab": {
          "base_uri": "https://localhost:8080/"
        },
        "id": "lYIkbsdwvgw2",
        "outputId": "4a82030f-6583-4b31-ab0e-961308a4dfc9"
      },
      "execution_count": 13,
      "outputs": [
        {
          "output_type": "stream",
          "name": "stdout",
          "text": [
            "apple\n"
          ]
        }
      ]
    }
  ]
}