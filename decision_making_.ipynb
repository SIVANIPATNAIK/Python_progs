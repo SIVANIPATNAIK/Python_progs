{
  "nbformat": 4,
  "nbformat_minor": 0,
  "metadata": {
    "colab": {
      "name": "decision making .ipynb",
      "provenance": [],
      "authorship_tag": "ABX9TyOSof9Ch4wfZjZLEAzB/FK5",
      "include_colab_link": true
    },
    "kernelspec": {
      "name": "python3",
      "display_name": "Python 3"
    },
    "language_info": {
      "name": "python"
    }
  },
  "cells": [
    {
      "cell_type": "markdown",
      "metadata": {
        "id": "view-in-github",
        "colab_type": "text"
      },
      "source": [
        "<a href=\"https://colab.research.google.com/github/SIVANIPATNAIK/Python_progs/blob/main/decision_making_.ipynb\" target=\"_parent\"><img src=\"https://colab.research.google.com/assets/colab-badge.svg\" alt=\"Open In Colab\"/></a>"
      ]
    },
    {
      "cell_type": "markdown",
      "source": [
        "scalane or isocelese or equilateral"
      ],
      "metadata": {
        "id": "Dy_IcId6aLN9"
      }
    },
    {
      "cell_type": "code",
      "source": [
        "a=18\n",
        "b=20\n",
        "c=18\n",
        "if(a==b==c):\n",
        "  print(\"equilateral\")\n",
        "elif(a==b)or(b==c)or(c==a):\n",
        "  print(\"isocelese\")\n",
        "else:\n",
        "  print(\"scalene\")"
      ],
      "metadata": {
        "colab": {
          "base_uri": "https://localhost:8080/"
        },
        "id": "IG51rf0xa1S7",
        "outputId": "4a519577-58c5-4b66-fe0e-5aa2e5166e88"
      },
      "execution_count": 1,
      "outputs": [
        {
          "output_type": "stream",
          "name": "stdout",
          "text": [
            "isocelese\n"
          ]
        }
      ]
    },
    {
      "cell_type": "markdown",
      "source": [
        "whether the number is leap year or not"
      ],
      "metadata": {
        "id": "T1v_f5SqcWkF"
      }
    },
    {
      "cell_type": "code",
      "source": [
        ""
      ],
      "metadata": {
        "id": "ITkN7AyveEx9"
      },
      "execution_count": null,
      "outputs": []
    }
  ]
}