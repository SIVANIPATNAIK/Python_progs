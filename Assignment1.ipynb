{
  "nbformat": 4,
  "nbformat_minor": 0,
  "metadata": {
    "colab": {
      "name": "Assignment1.ipynb",
      "provenance": [],
      "authorship_tag": "ABX9TyMda7ayDeHVTFzoSFen+Bjz",
      "include_colab_link": true
    },
    "kernelspec": {
      "name": "python3",
      "display_name": "Python 3"
    },
    "language_info": {
      "name": "python"
    }
  },
  "cells": [
    {
      "cell_type": "markdown",
      "metadata": {
        "id": "view-in-github",
        "colab_type": "text"
      },
      "source": [
        "<a href=\"https://colab.research.google.com/github/SIVANIPATNAIK/Python_progs/blob/main/Assignment1.ipynb\" target=\"_parent\"><img src=\"https://colab.research.google.com/assets/colab-badge.svg\" alt=\"Open In Colab\"/></a>"
      ]
    },
    {
      "cell_type": "markdown",
      "source": [
        "Accept input from user and store it in variable and print the value"
      ],
      "metadata": {
        "id": "YFLMouoDIQzz"
      }
    },
    {
      "cell_type": "code",
      "source": [
        "x=input()\n",
        "print(x)"
      ],
      "metadata": {
        "colab": {
          "base_uri": "https://localhost:8080/"
        },
        "id": "1swIOXVSIUIR",
        "outputId": "acf74378-dedc-4d8d-cd37-ee827ba0ce7f"
      },
      "execution_count": 1,
      "outputs": [
        {
          "output_type": "stream",
          "name": "stdout",
          "text": [
            "6\n",
            "6\n"
          ]
        }
      ]
    },
    {
      "cell_type": "markdown",
      "source": [
        "Use of print statements and use of (.format )for printing different data types"
      ],
      "metadata": {
        "id": "Y6ON7dCoIgxs"
      }
    },
    {
      "cell_type": "code",
      "source": [
        "a=9.5;\n",
        "print(type(a));\n",
        "#before conversion\n",
        "b=str(a);\n",
        "print(b);\n",
        "print(type(b));\n",
        "#after conversion\n",
        "e=complex(a);\n",
        "print(e);\n",
        "print(type(e));\n",
        "c=int(a);\n",
        "print(c);\n",
        "print(type(c));\n",
        "d=bool(a);\n",
        "print(d);\n",
        "print(type(d));"
      ],
      "metadata": {
        "colab": {
          "base_uri": "https://localhost:8080/"
        },
        "id": "ytgK8kCJInqU",
        "outputId": "35c2efed-cd0b-43eb-9a9a-91cb69b8eadb"
      },
      "execution_count": 4,
      "outputs": [
        {
          "output_type": "stream",
          "name": "stdout",
          "text": [
            "<class 'float'>\n",
            "9.5\n",
            "<class 'str'>\n",
            "(9.5+0j)\n",
            "<class 'complex'>\n",
            "9\n",
            "<class 'int'>\n",
            "True\n",
            "<class 'bool'>\n"
          ]
        }
      ]
    },
    {
      "cell_type": "markdown",
      "source": [
        "Take 2 numbers as user input and add, multiply, divide, subtract, remainder and print the output"
      ],
      "metadata": {
        "id": "vEkglWWWJCW4"
      }
    },
    {
      "cell_type": "code",
      "source": [
        "no1=int(input())\n",
        "no2=int(input())\n",
        "sum=no1+no2\n",
        "multi=no1*no2\n",
        "div=no1/no2\n",
        "sub=no1-no2\n",
        "print(sum,multi,div,sub)"
      ],
      "metadata": {
        "colab": {
          "base_uri": "https://localhost:8080/"
        },
        "id": "MYZOanlpJJVe",
        "outputId": "2e49d66c-6d05-49ad-8a08-cef90ab33be4"
      },
      "execution_count": 5,
      "outputs": [
        {
          "output_type": "stream",
          "name": "stdout",
          "text": [
            "40\n",
            "75\n",
            "115 3000 0.5333333333333333 -35\n"
          ]
        }
      ]
    },
    {
      "cell_type": "markdown",
      "source": [
        "Conversion of one unit to another (such as hours to minutes, miles to km and etc)"
      ],
      "metadata": {
        "id": "2w3rT4drK307"
      }
    },
    {
      "cell_type": "code",
      "source": [
        "hour=int(input())\n",
        "miles=int(input())\n",
        "min=hour*60\n",
        "km=1.60934*miles\n",
        "print(min,km)"
      ],
      "metadata": {
        "colab": {
          "base_uri": "https://localhost:8080/"
        },
        "id": "LS87P7VWK89x",
        "outputId": "23234c55-6f1f-4a32-f7d5-42204b87075c"
      },
      "execution_count": 6,
      "outputs": [
        {
          "output_type": "stream",
          "name": "stdout",
          "text": [
            "60\n",
            "30\n",
            "3600 48.2802\n"
          ]
        }
      ]
    },
    {
      "cell_type": "markdown",
      "source": [
        "Usage of mathematical functions in python like math.ceil, floor, fabs, fmod, trunc,pow, sqrt etc"
      ],
      "metadata": {
        "id": "Xs7jiuj4LQc-"
      }
    },
    {
      "cell_type": "code",
      "source": [
        "import math\n",
        "print(math.ceil(6.4))\n",
        "print(math.floor(6.4))\n",
        "print(math.fabs(-50))\n",
        "print(math.fmod(12, 4))\n",
        "print(math.trunc(8.66))\n",
        "x = pow(2, 2)\n",
        "print(x)\n",
        "print (math.sqrt(16))"
      ],
      "metadata": {
        "colab": {
          "base_uri": "https://localhost:8080/"
        },
        "id": "_GgVsMbnLWTT",
        "outputId": "452dd689-f84f-4fa1-8bea-0c57ad644d3d"
      },
      "execution_count": 11,
      "outputs": [
        {
          "output_type": "stream",
          "name": "stdout",
          "text": [
            "7\n",
            "6\n",
            "50.0\n",
            "0.0\n",
            "8\n",
            "4\n",
            "4.0\n"
          ]
        }
      ]
    },
    {
      "cell_type": "markdown",
      "source": [
        "Building a mathematical calculator that can perform operations according to user input."
      ],
      "metadata": {
        "id": "VsMF916RL0gx"
      }
    },
    {
      "cell_type": "code",
      "source": [
        "no1 = float(input(\"Enter 1st number: \"))\n",
        "no2 = float(input(\"Enter 2nd number: \"))\n",
        "print(\"Operation: +, -, *, /\")\n",
        "select = input(\"Select operations: \")\n",
        "if select == \"+\":\n",
        "    print(no1, \"+\", no2, \"=\", no1+no2)\n",
        "elif select == \"-\":\n",
        "    print(no1, \"-\", no2, \"=\", no1-no2)\n",
        "elif select == \"*\":\n",
        "    print(no1, \"*\", no2, \"=\", no1*no2)\n",
        "elif select == \"/\":\n",
        "    print(no1, \"/\", no2, \"=\", no1/no2)\n",
        "else:\n",
        "    print(\"Invalid input\")"
      ],
      "metadata": {
        "colab": {
          "base_uri": "https://localhost:8080/"
        },
        "id": "2Ty1BNCoL-8F",
        "outputId": "b7f0e70b-2744-4289-aee8-9808603aa341"
      },
      "execution_count": 12,
      "outputs": [
        {
          "output_type": "stream",
          "name": "stdout",
          "text": [
            "Enter 1st number: 4\n",
            "Enter 2nd number: 6\n",
            "Operation: +, -, *, /\n",
            "Select operations: *\n",
            "4.0 * 6.0 = 24.0\n"
          ]
        }
      ]
    },
    {
      "cell_type": "markdown",
      "source": [
        "Accepting 5 different subject marks from user and displaying the grade of the student"
      ],
      "metadata": {
        "id": "k9IwSbqRMQSF"
      }
    },
    {
      "cell_type": "code",
      "source": [
        "eng=int(input())\n",
        "phy=int(input())\n",
        "evpr=int(input())\n",
        "chem=int(input())\n",
        "math=int(input())\n",
        "tot=(eng+phy+evpr+chem+math)/5\n",
        "if tot > 90:\n",
        "  print(\"A\")\n",
        "elif tot > 80 :\n",
        "  print(\"B\")\n",
        "elif tot > 70 :\n",
        "  print(\"C\")\n",
        "elif tot > 60 :\n",
        "  print(\"D\")    \n",
        "elif tot > 50 :\n",
        "  print(\"E\")\n",
        "elif tot > 40 :\n",
        "  print(\"F\")"
      ],
      "metadata": {
        "colab": {
          "base_uri": "https://localhost:8080/"
        },
        "id": "PHk9bAkhMRJ5",
        "outputId": "f9b885ec-100c-4bb2-c2f9-0950e1dc8bd0"
      },
      "execution_count": 13,
      "outputs": [
        {
          "output_type": "stream",
          "name": "stdout",
          "text": [
            "50\n",
            "80\n",
            "100\n",
            "75\n",
            "90\n",
            "C\n"
          ]
        }
      ]
    },
    {
      "cell_type": "markdown",
      "source": [
        "Printing all even numbers, odd numbers, count of even numbers, count of odd numbers within a given range."
      ],
      "metadata": {
        "id": "MHNr0CuXMsSj"
      }
    },
    {
      "cell_type": "code",
      "source": [
        "no1=int(input())\n",
        "no2=int(input())\n",
        "c=0  #c is count of even numbers\n",
        "o=0 \n",
        "for x in range(no1,no2):\n",
        "  if(x%2==0) :\n",
        "    print(x)\n",
        "    c=c+1\n",
        "  elif(x%2!=0) :\n",
        "    print(\"0is odd\",x)\n",
        "    o=o+1\n",
        "print(c)\n",
        "print(o)"
      ],
      "metadata": {
        "colab": {
          "base_uri": "https://localhost:8080/"
        },
        "id": "w2CPbquvM0jV",
        "outputId": "2730ae8d-5e1d-413d-aa99-71142b40f9ac"
      },
      "execution_count": 15,
      "outputs": [
        {
          "output_type": "stream",
          "name": "stdout",
          "text": [
            "2\n",
            "7\n",
            "2\n",
            "0is odd 3\n",
            "4\n",
            "0is odd 5\n",
            "6\n",
            "3\n",
            "2\n"
          ]
        }
      ]
    },
    {
      "cell_type": "markdown",
      "source": [
        "Compute the factorial of a given number"
      ],
      "metadata": {
        "id": "tsu1o-rYNNPG"
      }
    },
    {
      "cell_type": "code",
      "source": [
        "number = int(input(\"Enter a no: \"))    \n",
        "factorial = 1    \n",
        "if number < 0:    \n",
        "   print(\" Factorial does not exist for negative nos\")    \n",
        "elif number == 0:    \n",
        "   print(\"The factorial of 0 is 1\")    \n",
        "else:    \n",
        "   for i in range(1,number + 1):    \n",
        "       factorial = factorial*i    \n",
        "   print(\"The factorial of\",number,\"is\",factorial) "
      ],
      "metadata": {
        "colab": {
          "base_uri": "https://localhost:8080/"
        },
        "id": "q7NX1993NXmG",
        "outputId": "87820d72-b150-41e7-de11-5bc3ea17e429"
      },
      "execution_count": 16,
      "outputs": [
        {
          "output_type": "stream",
          "name": "stdout",
          "text": [
            "Enter a no: 6\n",
            "The factorial of 6 is 720\n"
          ]
        }
      ]
    },
    {
      "cell_type": "markdown",
      "source": [
        "Compute GCD of two given numbers"
      ],
      "metadata": {
        "id": "kF6mQy6wNjIQ"
      }
    },
    {
      "cell_type": "code",
      "source": [
        "a =int(input(\"Enter a no: \")) \n",
        "b =int(input(\"Enter a no: \"))\n",
        "if a > b:\n",
        "  a, b = b, a\n",
        "for i in range(1,a+1):\n",
        "  if a%i == 0 and b%i == 0:\n",
        "    gcd = i\n",
        "\n",
        "print(\"GCD of\", a, \"and\", b, \"is:\", gcd)"
      ],
      "metadata": {
        "colab": {
          "base_uri": "https://localhost:8080/"
        },
        "id": "_u8nYY5sNksO",
        "outputId": "3a06f1a0-60cc-4250-c34b-a2a088ec2a13"
      },
      "execution_count": 17,
      "outputs": [
        {
          "output_type": "stream",
          "name": "stdout",
          "text": [
            "Enter a no: 250\n",
            "Enter a no: 5\n",
            "GCD of 5 and 250 is: 5\n"
          ]
        }
      ]
    },
    {
      "cell_type": "markdown",
      "source": [
        "Generate Fibonacci series up to N numbers"
      ],
      "metadata": {
        "id": "WqRBy0nYNw-n"
      }
    },
    {
      "cell_type": "code",
      "source": [
        "n = int(input())\n",
        "num1, num2 = 0, 1\n",
        "c = 0\n",
        "print(\"Fibonacci sequence:\")\n",
        "while c < n:\n",
        "       print(num1)\n",
        "       nth = num1 + num2\n",
        "       num1 = num2\n",
        "       num2 = nth\n",
        "       c +=1\n",
        "      "
      ],
      "metadata": {
        "colab": {
          "base_uri": "https://localhost:8080/"
        },
        "id": "tiKgX_pIN4_O",
        "outputId": "e5226aed-bb55-4e95-b775-b5e650ba7858"
      },
      "execution_count": 20,
      "outputs": [
        {
          "output_type": "stream",
          "name": "stdout",
          "text": [
            "5\n",
            "Fibonacci sequence:\n",
            "0\n",
            "1\n",
            "1\n",
            "2\n",
            "3\n"
          ]
        }
      ]
    },
    {
      "cell_type": "markdown",
      "source": [
        "Check whether the given input is palindrome"
      ],
      "metadata": {
        "id": "qPdboYN4OYPP"
      }
    },
    {
      "cell_type": "code",
      "source": [
        "no=int(input(\"Enter a nober:\"))\n",
        "a=no\n",
        "reverse=0\n",
        "while(no>0):\n",
        "    dgiit=no%10\n",
        "    reverse=reverse*10+dgiit\n",
        "    no=no//10\n",
        "if(a==reverse):\n",
        "    print(\"It is a palindrome!\")\n",
        "else:\n",
        "    print(\"Not a palindrome!\")"
      ],
      "metadata": {
        "colab": {
          "base_uri": "https://localhost:8080/"
        },
        "id": "6tnqC2C6OZQy",
        "outputId": "2897d15e-474b-4330-cd11-3b29bf84a9e9"
      },
      "execution_count": 22,
      "outputs": [
        {
          "output_type": "stream",
          "name": "stdout",
          "text": [
            "Enter a nober:7\n",
            "It is a palindrome!\n"
          ]
        }
      ]
    },
    {
      "cell_type": "markdown",
      "source": [
        "Check whether the given input is strong"
      ],
      "metadata": {
        "id": "ZULq8EU7OxUD"
      }
    },
    {
      "cell_type": "code",
      "source": [
        "num=int(input(\"Enter a number:\"))\n",
        "sum=0\n",
        "act=num\n",
        "while(num):\n",
        "    i=1\n",
        "    f=1\n",
        "    r=num%10\n",
        "    while(i<=r):\n",
        "        f=f*i\n",
        "        i=i+1\n",
        "    sum=sum+f\n",
        "    num=num//10\n",
        "if(sum==act):\n",
        "    print(\"The number is a strong number\")\n",
        "else:\n",
        "    print(\"The number is not a strong number\")"
      ],
      "metadata": {
        "colab": {
          "base_uri": "https://localhost:8080/"
        },
        "id": "pKGK0kjlOywP",
        "outputId": "62334757-558a-46a6-c6a5-ccda5cefa34a"
      },
      "execution_count": 23,
      "outputs": [
        {
          "output_type": "stream",
          "name": "stdout",
          "text": [
            "Enter a number:50\n",
            "The number is not a strong number\n"
          ]
        }
      ]
    },
    {
      "cell_type": "markdown",
      "source": [
        "Check whether the given input is perfect"
      ],
      "metadata": {
        "id": "PIDu-GDTPAsJ"
      }
    },
    {
      "cell_type": "code",
      "source": [
        "no=int(input(\"Enter a number:\"))\n",
        "s=0\n",
        "for i in range(1, no):\n",
        "    if(no % i == 0):\n",
        "        s = s + i\n",
        "if (s == no):\n",
        "    print(\"Perfect nober\")\n",
        "else:\n",
        "    print(\"not a Perfect nober\")"
      ],
      "metadata": {
        "colab": {
          "base_uri": "https://localhost:8080/"
        },
        "id": "VqLTz_tHPBwZ",
        "outputId": "0742c147-781d-49c7-b074-567232227b32"
      },
      "execution_count": 24,
      "outputs": [
        {
          "output_type": "stream",
          "name": "stdout",
          "text": [
            "Enter a number:8\n",
            "not a Perfect nober\n"
          ]
        }
      ]
    },
    {
      "cell_type": "markdown",
      "source": [
        "Compute compound interest using loop for a certain principal and interest amount"
      ],
      "metadata": {
        "id": "qSxiRCDuPQAz"
      }
    },
    {
      "cell_type": "code",
      "source": [
        "x=int(input(\"principle amount:\"))\n",
        "rate=int(input(\"rate:\"))\n",
        "years=int(input(\"number of years:\"))\n",
        "for i in range(years):\n",
        "    x=x+((x*rate)/100)\n",
        "print(x)"
      ],
      "metadata": {
        "colab": {
          "base_uri": "https://localhost:8080/"
        },
        "id": "AMouxtRePSMe",
        "outputId": "bdd54f99-5fe9-43e3-c337-760bc6ecdcdc"
      },
      "execution_count": 25,
      "outputs": [
        {
          "output_type": "stream",
          "name": "stdout",
          "text": [
            "principle amount:60\n",
            "rate:40\n",
            "number of years:2\n",
            "117.6\n"
          ]
        }
      ]
    }
  ]
}