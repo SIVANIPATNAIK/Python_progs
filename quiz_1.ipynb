{
  "nbformat": 4,
  "nbformat_minor": 0,
  "metadata": {
    "colab": {
      "name": "quiz 1.ipynb",
      "provenance": [],
      "toc_visible": true,
      "authorship_tag": "ABX9TyOu9GGDVOGFeeOc2Avlh+VT",
      "include_colab_link": true
    },
    "kernelspec": {
      "name": "python3",
      "display_name": "Python 3"
    },
    "language_info": {
      "name": "python"
    }
  },
  "cells": [
    {
      "cell_type": "markdown",
      "metadata": {
        "id": "view-in-github",
        "colab_type": "text"
      },
      "source": [
        "<a href=\"https://colab.research.google.com/github/SIVANIPATNAIK/Python_progs/blob/main/quiz_1.ipynb\" target=\"_parent\"><img src=\"https://colab.research.google.com/assets/colab-badge.svg\" alt=\"Open In Colab\"/></a>"
      ]
    },
    {
      "cell_type": "markdown",
      "source": [
        "Write a program of swapping of two numbers \n",
        "\n"
      ],
      "metadata": {
        "id": "4LccaML1jhzD"
      }
    },
    {
      "cell_type": "code",
      "source": [
        "x=2\n",
        "y=3\n",
        "temp=x\n",
        "x=y\n",
        "y=temp\n",
        "print(\"Result =\",x,y)"
      ],
      "metadata": {
        "colab": {
          "base_uri": "https://localhost:8080/"
        },
        "id": "Zi6Oeci0jxRy",
        "outputId": "1a2a0ed4-7915-4ba6-d9a2-10edcf53e807"
      },
      "execution_count": 1,
      "outputs": [
        {
          "output_type": "stream",
          "name": "stdout",
          "text": [
            "Result = 3 2\n"
          ]
        }
      ]
    },
    {
      "cell_type": "markdown",
      "source": [
        "Find out the square root of the number\n",
        "\n"
      ],
      "metadata": {
        "id": "WEA6ACzHj6nj"
      }
    },
    {
      "cell_type": "code",
      "source": [
        "a=4\n",
        "print(a**0.5)"
      ],
      "metadata": {
        "colab": {
          "base_uri": "https://localhost:8080/"
        },
        "id": "Wc_s70wfj_4T",
        "outputId": "83a60d7a-e15b-471d-dfd8-1edf23a0cd9a"
      },
      "execution_count": 2,
      "outputs": [
        {
          "output_type": "stream",
          "name": "stdout",
          "text": [
            "2.0\n"
          ]
        }
      ]
    },
    {
      "cell_type": "markdown",
      "source": [
        "Find out the Largest of three numbers from the give input\n",
        "\n"
      ],
      "metadata": {
        "id": "WwjXBFpikGOy"
      }
    },
    {
      "cell_type": "code",
      "source": [
        "a=5\n",
        "b=3\n",
        "c=2\n",
        "if a>b and a>c:\n",
        "    print(a)\n",
        "elif b>a and b>c:\n",
        "    print(b)\n",
        "else:\n",
        "    print(c)"
      ],
      "metadata": {
        "colab": {
          "base_uri": "https://localhost:8080/"
        },
        "id": "HDkcG7EbkKQz",
        "outputId": "c0f48da4-362b-43c6-e9b6-8ffd21cdecc2"
      },
      "execution_count": 3,
      "outputs": [
        {
          "output_type": "stream",
          "name": "stdout",
          "text": [
            "5\n"
          ]
        }
      ]
    },
    {
      "cell_type": "markdown",
      "source": [
        "Add Black color to the given list in the 4th place.\n",
        "\n",
        " Rainbow = ['Red', 'Orange', 'Yellow', 'Green'] \n",
        "\n"
      ],
      "metadata": {
        "id": "u3SRl4k8kQKL"
      }
    },
    {
      "cell_type": "code",
      "source": [
        "##\n",
        "rainbow=['red','orange','yellow','green']\n",
        "rainbow.insert(3,\"black\")\n",
        "print('rainbow =',rainbow)\n",
        "\n",
        "\n",
        "\n",
        "\n",
        "\n",
        "\n",
        "\n",
        "\n",
        "\n",
        "\n",
        "\n",
        "\n",
        "\n",
        "\n",
        "\n",
        "\n",
        "\n",
        "\n",
        "\n",
        "\n",
        "\n",
        "\n",
        "\n",
        "\n",
        "\n",
        "\n",
        "\n",
        "\n",
        "\n",
        "\n",
        "\n",
        "\n",
        "\n",
        "\n",
        "\n",
        "\n",
        "\n",
        "\n",
        "\n",
        "\n",
        "\n",
        "\n",
        "\n",
        "\n",
        "\n",
        " \n",
        "\n",
        "\n",
        "\n",
        "\n"
      ],
      "metadata": {
        "colab": {
          "base_uri": "https://localhost:8080/"
        },
        "id": "2jsfyfxJkT4b",
        "outputId": "038f4a41-82aa-456b-875a-dfd47664f4ae"
      },
      "execution_count": 6,
      "outputs": [
        {
          "output_type": "stream",
          "name": "stdout",
          "text": [
            "rainbow = ['red', 'orange', 'yellow', 'black', 'green']\n"
          ]
        }
      ]
    }
  ]
}