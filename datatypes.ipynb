{
  "cells": [
    {
      "cell_type": "markdown",
      "metadata": {
        "id": "view-in-github",
        "colab_type": "text"
      },
      "source": [
        "<a href=\"https://colab.research.google.com/github/SIVANIPATNAIK/Python_progs/blob/main/datatypes.ipynb\" target=\"_parent\"><img src=\"https://colab.research.google.com/assets/colab-badge.svg\" alt=\"Open In Colab\"/></a>"
      ]
    },
    {
      "cell_type": "markdown",
      "id": "2ce61fde",
      "metadata": {
        "id": "2ce61fde"
      },
      "source": [
        "# #converting int to string,float,boolean,complex."
      ]
    },
    {
      "cell_type": "code",
      "execution_count": null,
      "id": "77a0c4fa",
      "metadata": {
        "id": "77a0c4fa",
        "outputId": "868c1929-4cb1-44e1-a794-888ad9247abf"
      },
      "outputs": [
        {
          "name": "stdout",
          "output_type": "stream",
          "text": [
            "<class 'int'>\n",
            "10\n",
            "<class 'str'>\n",
            "10\n",
            "10.0\n",
            "<class 'float'>\n",
            "True\n",
            "<class 'bool'>\n",
            "(10+0j)\n",
            "<class 'complex'>\n"
          ]
        }
      ],
      "source": [
        "a=10\n",
        "print(type(a))\n",
        "print(a)\n",
        "#before conversion\n",
        "b=str(a)\n",
        "print(type(b))\n",
        "print(b)\n",
        "#after conversion\n",
        "c=float(a)\n",
        "print(c)\n",
        "print(type(c))\n",
        "d=bool(a)\n",
        "print(d)\n",
        "print(type(d))\n",
        "e=complex(a)\n",
        "print(e)\n",
        "print(type(e))"
      ]
    },
    {
      "cell_type": "markdown",
      "id": "b3584f43",
      "metadata": {
        "id": "b3584f43"
      },
      "source": [
        " # #converting string to int,float,boolean,complex."
      ]
    },
    {
      "cell_type": "code",
      "execution_count": null,
      "id": "73fce918",
      "metadata": {
        "id": "73fce918",
        "outputId": "70f1f250-b42a-43c4-bb2d-315798914c99"
      },
      "outputs": [
        {
          "name": "stdout",
          "output_type": "stream",
          "text": [
            "<class 'str'>\n",
            "10\n",
            "<class 'int'>\n",
            "10\n",
            "<class 'float'>\n",
            "10.0\n",
            "True\n",
            "<class 'bool'>\n",
            "<class 'complex'>\n",
            "(10+0j)\n"
          ]
        }
      ],
      "source": [
        "a='10'\n",
        "print(type(a))\n",
        "print(a)\n",
        "b=int(a)\n",
        "print(type(b))\n",
        "print(b)\n",
        "#cannot convert alphabet into integers,only digits\n",
        "#instead of alphabets give digits 0-9\n",
        "e=float(a)\n",
        "print(type(e))\n",
        "print(e)\n",
        "f=bool(a)\n",
        "print(f)\n",
        "print(type(f))\n",
        "g=complex(a)\n",
        "print(type(g))\n",
        "print(g)"
      ]
    },
    {
      "cell_type": "markdown",
      "id": "5e8208ca",
      "metadata": {
        "id": "5e8208ca"
      },
      "source": [
        "# #converting float to int,string,boolean,complex."
      ]
    },
    {
      "cell_type": "code",
      "execution_count": null,
      "id": "729590c9",
      "metadata": {
        "id": "729590c9",
        "outputId": "96f7b810-e05a-4d3f-af39-baa9b7907713"
      },
      "outputs": [
        {
          "name": "stdout",
          "output_type": "stream",
          "text": [
            "<class 'float'>\n",
            "10.5\n",
            "<class 'int'>\n",
            "10\n",
            "<class 'str'>\n",
            "10.5\n",
            "<class 'bool'>\n",
            "True\n",
            "<class 'complex'>\n",
            "(10.5+0j)\n"
          ]
        }
      ],
      "source": [
        "a=10.5\n",
        "print(type(a))\n",
        "print(a)\n",
        "b=int(a)\n",
        "print(type(b))\n",
        "print(b)\n",
        "c=str(a)\n",
        "print(type(c))\n",
        "print(c)\n",
        "d=bool(a)\n",
        "print(type(d))\n",
        "print(d)\n",
        "e=complex(a)\n",
        "print(type(e))\n",
        "print(e) "
      ]
    },
    {
      "cell_type": "markdown",
      "id": "98c7f585",
      "metadata": {
        "id": "98c7f585"
      },
      "source": [
        "# #converting boolean to int,char,float,complex."
      ]
    },
    {
      "cell_type": "code",
      "execution_count": null,
      "id": "4ec0b2bd",
      "metadata": {
        "id": "4ec0b2bd",
        "outputId": "999e4dce-64a1-484b-b52c-4afb338c7e9f"
      },
      "outputs": [
        {
          "name": "stdout",
          "output_type": "stream",
          "text": [
            "<class 'float'>\n",
            "18.76\n",
            "18\n",
            "<class 'int'>\n",
            "18.76\n",
            "<class 'str'>\n",
            "18.76\n",
            "<class 'float'>\n",
            "<class 'complex'>\n",
            "(18.76+0j)\n"
          ]
        }
      ],
      "source": [
        "a=18.76\n",
        "print(type(a))\n",
        "print(a)\n",
        "b=int(a)\n",
        "print(b)\n",
        "print(type(b))\n",
        "c=str(a)\n",
        "print(c)\n",
        "print(type(c))\n",
        "d=float(a)\n",
        "print(d)\n",
        "print(type(d))\n",
        "e=complex(a)\n",
        "print(type(e))\n",
        "print(e)"
      ]
    },
    {
      "cell_type": "code",
      "execution_count": null,
      "id": "7321d6c7",
      "metadata": {
        "id": "7321d6c7"
      },
      "outputs": [],
      "source": [
        ""
      ]
    }
  ],
  "metadata": {
    "kernelspec": {
      "display_name": "Python 3 (ipykernel)",
      "language": "python",
      "name": "python3"
    },
    "language_info": {
      "codemirror_mode": {
        "name": "ipython",
        "version": 3
      },
      "file_extension": ".py",
      "mimetype": "text/x-python",
      "name": "python",
      "nbconvert_exporter": "python",
      "pygments_lexer": "ipython3",
      "version": "3.9.7"
    },
    "colab": {
      "name": "datatypes.ipynb",
      "provenance": [],
      "include_colab_link": true
    }
  },
  "nbformat": 4,
  "nbformat_minor": 5
}