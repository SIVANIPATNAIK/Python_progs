{
  "nbformat": 4,
  "nbformat_minor": 0,
  "metadata": {
    "colab": {
      "name": "strings.ipynb",
      "provenance": [],
      "authorship_tag": "ABX9TyPmK1fNEXn1KYh0phgIguCS",
      "include_colab_link": true
    },
    "kernelspec": {
      "name": "python3",
      "display_name": "Python 3"
    },
    "language_info": {
      "name": "python"
    }
  },
  "cells": [
    {
      "cell_type": "markdown",
      "metadata": {
        "id": "view-in-github",
        "colab_type": "text"
      },
      "source": [
        "<a href=\"https://colab.research.google.com/github/SIVANIPATNAIK/Python_progs/blob/main/strings.ipynb\" target=\"_parent\"><img src=\"https://colab.research.google.com/assets/colab-badge.svg\" alt=\"Open In Colab\"/></a>"
      ]
    },
    {
      "cell_type": "code",
      "execution_count": 1,
      "metadata": {
        "colab": {
          "base_uri": "https://localhost:8080/"
        },
        "id": "FsAWi8yW9qTE",
        "outputId": "029db545-1272-4b6d-e3c8-0035026b8555"
      },
      "outputs": [
        {
          "output_type": "stream",
          "name": "stdout",
          "text": [
            "True\n"
          ]
        }
      ],
      "source": [
        "a='''hello this is a python class\n",
        "     by yashwanth sir.'''\n",
        "print(\"python\" in a)"
      ]
    },
    {
      "cell_type": "markdown",
      "source": [
        "##If not"
      ],
      "metadata": {
        "id": "xAfh7_xRA9uy"
      }
    },
    {
      "cell_type": "code",
      "source": [
        "a='''hello this is a python class\n",
        "     by yashwanth sir.'''\n",
        "print(\"class\"not in a)"
      ],
      "metadata": {
        "colab": {
          "base_uri": "https://localhost:8080/"
        },
        "id": "CWlbIMkqBDkx",
        "outputId": "8e1db045-bce8-4ff7-c4b7-6696af9c634a"
      },
      "execution_count": 2,
      "outputs": [
        {
          "output_type": "stream",
          "name": "stdout",
          "text": [
            "False\n"
          ]
        }
      ]
    },
    {
      "cell_type": "markdown",
      "source": [
        "##"
      ],
      "metadata": {
        "id": "Qcgv5s8gBsaJ"
      }
    },
    {
      "cell_type": "code",
      "source": [
        "a='''hello this is a python class\n",
        "     by yashwanth sir.'''\n",
        "print(\"class\"in a)\n",
        "print(\"class\"in a,\"sir\"in a)\n",
        "print(\"class\"in a,\"lk\"in a)"
      ],
      "metadata": {
        "colab": {
          "base_uri": "https://localhost:8080/"
        },
        "id": "R95xnD7ZBtso",
        "outputId": "a8a15eac-aea9-44b9-dfd3-6c3232e1482f"
      },
      "execution_count": 6,
      "outputs": [
        {
          "output_type": "stream",
          "name": "stdout",
          "text": [
            "True\n",
            "True True\n",
            "True False\n"
          ]
        }
      ]
    },
    {
      "cell_type": "markdown",
      "source": [
        "##slicing of a string"
      ],
      "metadata": {
        "id": "20L5bMVnCcsh"
      }
    },
    {
      "cell_type": "code",
      "source": [
        "a=\"I went to RRR movie\"\n",
        "print(a[2:5],a[4:11])"
      ],
      "metadata": {
        "colab": {
          "base_uri": "https://localhost:8080/"
        },
        "id": "Rcz4rnxECon_",
        "outputId": "294950cc-818c-4c74-acf1-f6a7f38496bd"
      },
      "execution_count": 9,
      "outputs": [
        {
          "output_type": "stream",
          "name": "stdout",
          "text": [
            "wen nt to R\n"
          ]
        }
      ]
    },
    {
      "cell_type": "markdown",
      "source": [
        "##format string"
      ],
      "metadata": {
        "id": "sK0SNWVENXeJ"
      }
    },
    {
      "cell_type": "code",
      "source": [
        "age = 18\n",
        "txt = \"My name is Sivani, I am {}\" \n",
        "print(txt.format(age))"
      ],
      "metadata": {
        "colab": {
          "base_uri": "https://localhost:8080/"
        },
        "id": "OaNiyxF3NeDw",
        "outputId": "4a653fe3-b5cc-47ce-a3e3-7f21cdc807b4"
      },
      "execution_count": 11,
      "outputs": [
        {
          "output_type": "stream",
          "name": "stdout",
          "text": [
            "My name is Sivani, I am 18\n"
          ]
        }
      ]
    }
  ]
}